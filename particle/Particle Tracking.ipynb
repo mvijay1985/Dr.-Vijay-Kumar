
import numpy as np 
import matplotlib.pyplot as plt 

x= np.linspace(1,10,100)
y= np. sin(x)

plt.plot(x,y,'--r')
plt.xlabel('Time')
plt.xlabel('Signal')
