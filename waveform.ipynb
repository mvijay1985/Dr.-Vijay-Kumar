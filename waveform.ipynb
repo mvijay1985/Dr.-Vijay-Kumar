{
  "nbformat": 4,
  "nbformat_minor": 0,
  "metadata": {
    "colab": {
      "name": "waveform.ipynb",
      "provenance": [],
      "authorship_tag": "ABX9TyNhpsw3NMq9JkBntycaQ+rO",
      "include_colab_link": true
    },
    "kernelspec": {
      "name": "python3",
      "display_name": "Python 3"
    }
  },
  "cells": [
    {
      "cell_type": "markdown",
      "metadata": {
        "id": "view-in-github",
        "colab_type": "text"
      },
      "source": [
        "<a href=\"https://colab.research.google.com/github/mvku/Dr.-Vijay-Kumar/blob/master/waveform.ipynb\" target=\"_parent\"><img src=\"https://colab.research.google.com/assets/colab-badge.svg\" alt=\"Open In Colab\"/></a>"
      ]
    },
    {
      "cell_type": "code",
      "metadata": {
        "id": "vW4m3tXdAcUZ",
        "colab_type": "code",
        "colab": {}
      },
      "source": [
        ""
      ],
      "execution_count": 0,
      "outputs": []
    },
    {
      "cell_type": "markdown",
      "metadata": {
        "id": "aUvYWiVuAdf-",
        "colab_type": "text"
      },
      "source": [
        "How to plot a graph ?\n",
        "\n"
      ]
    },
    {
      "cell_type": "code",
      "metadata": {
        "id": "E3gRim8wPLHR",
        "colab_type": "code",
        "colab": {}
      },
      "source": [
        ""
      ],
      "execution_count": 0,
      "outputs": []
    },
    {
      "cell_type": "code",
      "metadata": {
        "id": "JlwdZva3AjOY",
        "colab_type": "code",
        "outputId": "7d43aedf-99c0-49b0-ad89-d35e56a85300",
        "colab": {
          "base_uri": "https://localhost:8080/",
          "height": 312
        }
      },
      "source": [
        "import numpy as np \n",
        "import matplotlib.pyplot as plt\n",
        "x=np.linspace(1,10,5000)\n",
        "y=np.sin(x)\n",
        "plt.plot(x,y,'or',label='wave form')\n",
        "plt.xlabel('Time in (s)')\n",
        "plt.ylabel('Signal (V)')\n",
        "plt.title('sine wave generation')\n",
        "plt.legend()"
      ],
      "execution_count": 1,
      "outputs": [
        {
          "output_type": "execute_result",
          "data": {
            "text/plain": [
              "<matplotlib.legend.Legend at 0x7f5c0e9e22b0>"
            ]
          },
          "metadata": {
            "tags": []
          },
          "execution_count": 1
        },
        {
          "output_type": "display_data",
          "data": {
            "image/png": "[encoded data removed]",
            "text/plain": [
              "<Figure size 432x288 with 1 Axes>"
            ]
          },
          "metadata": {
            "tags": [],
            "needs_background": "light"
          }
        }
      ]
    }
  ]
}